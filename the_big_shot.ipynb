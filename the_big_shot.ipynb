{
 "cells": [
  {
   "cell_type": "code",
   "execution_count": 1,
   "metadata": {
    "collapsed": true
   },
   "outputs": [],
   "source": [
    "import matplotlib.pyplot as plt\n",
    "import itertools\n",
    "import random\n",
    "import copy"
   ]
  },
  {
   "cell_type": "code",
   "execution_count": 6,
   "metadata": {
    "collapsed": false
   },
   "outputs": [],
   "source": [
    "class Schelling:\n",
    "    \n",
    "    def __init__(self, width, height, empty_ratio, similarity_threshold, n_iterations, races = 2):\n",
    "        self.width = width \n",
    "        self.height = height \n",
    "        self.races = races\n",
    "        self.empty_ratio = empty_ratio\n",
    "        self.similarity_threshold = similarity_threshold\n",
    "        self.n_iterations = n_iterations\n",
    "        self.empty_houses = []\n",
    "        self.agents = {}\n",
    "\n",
    "    def populate(self):\n",
    "        self.all_houses = list(itertools.product(range(self.width),range(self.height)))\n",
    "        random.shuffle(self.all_houses)\n",
    "\n",
    "        self.n_empty = int( self.empty_ratio * len(self.all_houses) )\n",
    "        self.empty_houses = self.all_houses[:self.n_empty]\n",
    "\n",
    "        self.remaining_houses = self.all_houses[self.n_empty:]\n",
    "        houses_by_race = [self.remaining_houses[i::self.races] for i in range(self.races)]\n",
    "        for i in range(self.races):\n",
    "            #create agents for each race\n",
    "            self.agents = dict(\n",
    "                                self.agents.items() + \n",
    "                                dict(zip(houses_by_race[i], [i+1]*len(houses_by_race[i]))).items())\n",
    "    \n",
    "\n",
    "    def is_unsatisfied(self, x, y):\n",
    "\n",
    "        race = self.agents[(x,y)]\n",
    "        count_similar = 0\n",
    "        count_different = 0\n",
    "\n",
    "        if x > 0 and y > 0 and (x-1, y-1) not in self.empty_houses:\n",
    "            if self.agents[(x-1, y-1)] == race:\n",
    "                count_similar += 1\n",
    "            else:\n",
    "                count_different += 1\n",
    "        if y > 0 and (x,y-1) not in self.empty_houses:\n",
    "            if self.agents[(x,y-1)] == race:\n",
    "                count_similar += 1\n",
    "            else:\n",
    "                count_different += 1\n",
    "        if x < (self.width-1) and y > 0 and (x+1,y-1) not in self.empty_houses:\n",
    "            if self.agents[(x+1,y-1)] == race:\n",
    "                count_similar += 1\n",
    "            else:\n",
    "                count_different += 1\n",
    "        if x > 0 and (x-1,y) not in self.empty_houses:\n",
    "            if self.agents[(x-1,y)] == race:\n",
    "                count_similar += 1\n",
    "            else:\n",
    "                count_different += 1        \n",
    "        if x < (self.width-1) and (x+1,y) not in self.empty_houses:\n",
    "            if self.agents[(x+1,y)] == race:\n",
    "                count_similar += 1\n",
    "            else:\n",
    "                count_different += 1\n",
    "        if x > 0 and y < (self.height-1) and (x-1,y+1) not in self.empty_houses:\n",
    "            if self.agents[(x-1,y+1)] == race:\n",
    "                count_similar += 1\n",
    "            else:\n",
    "                count_different += 1        \n",
    "        if x > 0 and y < (self.height-1) and (x,y+1) not in self.empty_houses:\n",
    "            if self.agents[(x,y+1)] == race:\n",
    "                count_similar += 1\n",
    "            else:\n",
    "                count_different += 1        \n",
    "        if x < (self.width-1) and y < (self.height-1) and (x+1,y+1) not in self.empty_houses:\n",
    "            if self.agents[(x+1,y+1)] == race:\n",
    "                count_similar += 1\n",
    "            else:\n",
    "                count_different += 1\n",
    "\n",
    "        if (count_similar+count_different) == 0:\n",
    "            return False\n",
    "        else:\n",
    "            return float(count_similar)/(count_similar+count_different) < self.similarity_threshold\n",
    "        \n",
    "        \n",
    "        \n",
    "        \n",
    "        \n",
    "\n",
    "    def update(self):\n",
    "            for i in range(self.n_iterations):\n",
    "                self.old_agents = copy.deepcopy(self.agents)\n",
    "                n_changes = 0\n",
    "                for agent in self.old_agents:\n",
    "                    if self.is_unsatisfied(agent[0], agent[1]):\n",
    "                        agent_race = self.agents[agent]\n",
    "                        empty_house = random.choice(self.empty_houses)\n",
    "                        self.agents[empty_house] = agent_race\n",
    "                        del self.agents[agent]\n",
    "                        self.empty_houses.remove(empty_house)\n",
    "                        self.empty_houses.append(agent)\n",
    "                        n_changes += 1\n",
    "                print n_changes\n",
    "                if n_changes == 0:\n",
    "                    break        \n",
    "        \n",
    "\n",
    "    def move_to_empty(self, x, y):\n",
    "        race = self.agents[(x,y)]\n",
    "        empty_house = random.choice(self.empty_houses)\n",
    "        self.updated_agents[empty_house] = race\n",
    "        del self.updated_agents[(x, y)]\n",
    "        self.empty_houses.remove(empty_house)\n",
    "        self.empty_houses.append((x, y))\n",
    "        \n",
    "                \n",
    "\n",
    "\n",
    "    def plot(self, title, file_name):\n",
    "            fig, ax = plt.subplots()\n",
    "            #If you want to run the simulation with more than 7 colors, you should set agent_colors accordingly\n",
    "            agent_colors = {1:'b', 2:'r', 3:'g', 4:'c', 5:'m', 6:'y', 7:'k'}\n",
    "            for agent in self.agents:\n",
    "                ax.scatter(agent[0]+0.5, agent[1]+0.5, color=agent_colors[self.agents[agent]])\n",
    "\n",
    "            ax.set_title(title, fontsize=10, fontweight='bold')\n",
    "            ax.set_xlim([0, self.width])\n",
    "            ax.set_ylim([0, self.height])\n",
    "            ax.set_xticks([])\n",
    "            ax.set_yticks([])\n",
    "            plt.savefig(file_name)\n",
    "            "
   ]
  },
  {
   "cell_type": "code",
   "execution_count": 7,
   "metadata": {
    "collapsed": true
   },
   "outputs": [],
   "source": [
    "schelling_1 = Schelling(50, 50, 0.3, 0.3, 500, 2)\n",
    "schelling_1.populate()"
   ]
  },
  {
   "cell_type": "code",
   "execution_count": 9,
   "metadata": {
    "collapsed": false
   },
   "outputs": [
    {
     "data": {
      "image/png": "[encoded data removed]",
      "text/plain": [
       "<matplotlib.figure.Figure at 0xe9dd320>"
      ]
     },
     "metadata": {},
     "output_type": "display_data"
    }
   ],
   "source": [
    "%matplotlib inline\n",
    "schelling_1.plot('Schelling Model with 2 colors: Initial State', 'schelling_2_initial.png')"
   ]
  },
  {
   "cell_type": "code",
   "execution_count": 10,
   "metadata": {
    "collapsed": false
   },
   "outputs": [
    {
     "name": "stdout",
     "output_type": "stream",
     "text": [
      "315\n",
      "124\n",
      "73\n",
      "37\n",
      "27\n",
      "13\n",
      "7\n",
      "2\n",
      "1\n",
      "0\n"
     ]
    },
    {
     "data": {
      "image/png": "[encoded data removed]",
      "text/plain": [
       "<matplotlib.figure.Figure at 0xd6f5048>"
      ]
     },
     "metadata": {},
     "output_type": "display_data"
    }
   ],
   "source": [
    "schelling_1.update()\n",
    "schelling_1.plot('Schelling Model with 2 colors: Final State with Similarity Threshold 30%', 'schelling_2_30_final.png')"
   ]
  },
  {
   "cell_type": "code",
   "execution_count": null,
   "metadata": {
    "collapsed": true
   },
   "outputs": [],
   "source": []
  }
 ],
 "metadata": {
  "kernelspec": {
   "display_name": "Python 2",
   "language": "python",
   "name": "python2"
  },
  "language_info": {
   "codemirror_mode": {
    "name": "ipython",
    "version": 2
   },
   "file_extension": ".py",
   "mimetype": "text/x-python",
   "name": "python",
   "nbconvert_exporter": "python",
   "pygments_lexer": "ipython2",
   "version": "2.7.11"
  }
 },
 "nbformat": 4,
 "nbformat_minor": 0
}
