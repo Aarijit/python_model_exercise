{
 "cells": [
  {
   "cell_type": "code",
   "execution_count": 79,
   "metadata": {
    "collapsed": false
   },
   "outputs": [
    {
     "ename": "ImportError",
     "evalue": "cannot import name thinkplot",
     "output_type": "error",
     "traceback": [
      "\u001b[1;31m---------------------------------------------------------------------------\u001b[0m",
      "\u001b[1;31mImportError\u001b[0m                               Traceback (most recent call last)",
      "\u001b[1;32m<ipython-input-79-a08626dfadf9>\u001b[0m in \u001b[0;36m<module>\u001b[1;34m()\u001b[0m\n\u001b[0;32m     12\u001b[0m \u001b[1;32mimport\u001b[0m \u001b[0mmatplotlib\u001b[0m\u001b[1;33m.\u001b[0m\u001b[0mpyplot\u001b[0m \u001b[1;32mas\u001b[0m \u001b[0mplt\u001b[0m\u001b[1;33m\u001b[0m\u001b[0m\n\u001b[0;32m     13\u001b[0m \u001b[1;33m\u001b[0m\u001b[0m\n\u001b[1;32m---> 14\u001b[1;33m \u001b[1;32mfrom\u001b[0m \u001b[0mswampy\u001b[0m \u001b[1;32mimport\u001b[0m \u001b[0mthinkplot\u001b[0m\u001b[1;33m\u001b[0m\u001b[0m\n\u001b[0m\u001b[0;32m     15\u001b[0m \u001b[1;32mfrom\u001b[0m \u001b[0mthinkstats2\u001b[0m \u001b[1;32mimport\u001b[0m \u001b[0mRandomSeed\u001b[0m\u001b[1;33m\u001b[0m\u001b[0m\n\u001b[0;32m     16\u001b[0m \u001b[1;33m\u001b[0m\u001b[0m\n",
      "\u001b[1;31mImportError\u001b[0m: cannot import name thinkplot"
     ]
    }
   ],
   "source": [
    "import vpython\n",
    "\n",
    "from __future__ import print_function, division\n",
    "\n",
    "%matplotlib inline\n",
    "%precision 3\n",
    "\n",
    "import warnings\n",
    "warnings.filterwarnings('ignore')\n",
    "\n",
    "import numpy as np\n",
    "import matplotlib.pyplot as plt\n",
    "\n",
    "from swampy import thinkplot\n",
    "from thinkstats2 import RandomSeed\n",
    "\n",
    "from Cell2D import Cell2DViewer\n",
    "\n",
    "from matplotlib import rc\n",
    "rc('animation', html='html5')"
   ]
  },
  {
   "cell_type": "code",
   "execution_count": 78,
   "metadata": {
    "collapsed": false
   },
   "outputs": [
    {
     "name": "stdout",
     "output_type": "stream",
     "text": [
      "Collecting thinkstats2\n"
     ]
    },
    {
     "name": "stderr",
     "output_type": "stream",
     "text": [
      "  Could not find a version that satisfies the requirement thinkstats2 (from versions: )\n",
      "No matching distribution found for thinkstats2\n"
     ]
    }
   ],
   "source": [
    "!pip install thinkstats2"
   ]
  },
  {
   "cell_type": "code",
   "execution_count": null,
   "metadata": {
    "collapsed": true
   },
   "outputs": [],
   "source": []
  },
  {
   "cell_type": "code",
   "execution_count": 66,
   "metadata": {
    "collapsed": false
   },
   "outputs": [],
   "source": [
    "import turtle"
   ]
  },
  {
   "cell_type": "code",
   "execution_count": 67,
   "metadata": {
    "collapsed": false
   },
   "outputs": [
    {
     "ename": "TypeError",
     "evalue": "Error when calling the metaclass bases\n    module.__init__() takes at most 2 arguments (3 given)",
     "output_type": "error",
     "traceback": [
      "\u001b[1;31m---------------------------------------------------------------------------\u001b[0m",
      "\u001b[1;31mTypeError\u001b[0m                                 Traceback (most recent call last)",
      "\u001b[1;32m<ipython-input-67-c14ab9325d90>\u001b[0m in \u001b[0;36m<module>\u001b[1;34m()\u001b[0m\n\u001b[0;32m      7\u001b[0m \u001b[1;33m\u001b[0m\u001b[0m\n\u001b[0;32m      8\u001b[0m \u001b[1;33m\u001b[0m\u001b[0m\n\u001b[1;32m----> 9\u001b[1;33m \u001b[1;32mclass\u001b[0m \u001b[0mHighway\u001b[0m\u001b[1;33m(\u001b[0m\u001b[0mTurtleWorld\u001b[0m\u001b[1;33m)\u001b[0m\u001b[1;33m:\u001b[0m\u001b[1;33m\u001b[0m\u001b[0m\n\u001b[0m\u001b[0;32m     10\u001b[0m     \"\"\"A circular Highway with one lane that spirals down the canvas.\n\u001b[0;32m     11\u001b[0m \u001b[1;33m\u001b[0m\u001b[0m\n",
      "\u001b[1;31mTypeError\u001b[0m: Error when calling the metaclass bases\n    module.__init__() takes at most 2 arguments (3 given)"
     ]
    }
   ],
   "source": [
    "\n",
    "\n",
    "import math\n",
    "import random\n",
    "\n",
    "from swampy import TurtleWorld, color_list\n",
    "\n",
    "\n",
    "class Highway(TurtleWorld):\n",
    "    \"\"\"A circular Highway with one lane that spirals down the canvas.\n",
    "    \n",
    "    Attributes:\n",
    "    rows: the number of rows that spiral down the canvas.\n",
    "    delay: time between steps in seconds\n",
    "    colors: list of RGB strings\n",
    "    \"\"\"\n",
    "    def __init__(self):\n",
    "        TurtleWorld.__init__(self)\n",
    "        self.rows = 2.0\n",
    "        self.delay = 0.01\n",
    "        self.colors = color_list.make_color_dict().values()\n",
    "\n",
    "    def random_color(self):\n",
    "        \"\"\"Returns a random RGB string in #RRGGBB format.\"\"\"\n",
    "        return random.choice(self.colors)\n",
    "\n",
    "    def get_length(self):\n",
    "        \"\"\"Returns the total length of this highway.\"\"\"\n",
    "        return self.ca_width * self.rows\n",
    "\n",
    "    def project(self, turtle):\n",
    "        \"\"\"Project the turtle onto the highway.\n",
    "        Reads the Turtle's position position and returns its\n",
    "        x,y coordinates.\n",
    "        \"\"\"\n",
    "        p = 1.0 * turtle.position % self.get_length()\n",
    "        x = p % self.ca_width\n",
    "        y = p / self.ca_width * self.ca_height / self.rows\n",
    "        return x, y\n",
    "\n",
    "    def lane_heading(self):\n",
    "        \"\"\"Returns the heading that aligns the turtle with the lane.\"\"\"\n",
    "        x = self.ca_width\n",
    "        y = 1.0 * self.ca_height / self.rows\n",
    "        angle = math.atan2(y, x)\n",
    "        heading = angle * 180 / math.pi\n",
    "        return heading\n",
    "\n",
    "    def step(self):\n",
    "        \"\"\"Performs one time step.\"\"\"\n",
    "        TurtleWorld.step(self)\n",
    "        \n",
    "        # compute average turtle speed\n",
    "        total = 0.0\n",
    "        for turtle in self.animals:\n",
    "            total += turtle.speed\n",
    "\n",
    "        print total / len(self.animals)\n",
    "\n",
    "    def make_drivers(self, n, constructor):\n",
    "        \"\"\"Make drivers at random positions.\n",
    "        Args:\n",
    "            n: number of Drivers\n",
    "            constructor: function that returns a Driver\n",
    "        Returns:\n",
    "            a list of Drivers.\n",
    "        \"\"\"\n",
    "        t = []\n",
    "        for i in range(n):\n",
    "            turtle = constructor(self)\n",
    "            t.append((turtle.position, turtle))\n",
    "\n",
    "        # link up the drivers so each has an attribute (next) that\n",
    "        # refers to the driver in front\n",
    "        t.sort()\n",
    "        turtles = [t[1] for t in t]\n",
    "        for i in range(n-1):\n",
    "            turtles[i].next = turtles[i+1]\n",
    "        turtles[-1].next = turtles[0]\n",
    "\n",
    "        return turtles\n",
    "\n",
    "\n",
    "class Driver(Turtle):\n",
    "    \"\"\"A Turtle with a random position, speed and color.\"\"\"\n",
    "\n",
    "    def __init__(self, *args, **kwds):\n",
    "        Turtle.__init__(self, *args, **kwds)\n",
    "        self.delay = 0\n",
    "        self.color = self.world.random_color()\n",
    "        self.position = random.randrange(0, self.world.get_length())\n",
    "\n",
    "        self.speed_limit = 4\n",
    "        self.speed = random.randrange(0, self.speed_limit)\n",
    "        self.safe_distance = 30\n",
    "\n",
    "        self.heading = self.world.lane_heading()\n",
    "        self.next = None\n",
    "        self.project()\n",
    "        self.redraw()\n",
    "\n",
    "    def project(self):\n",
    "        \"\"\"Sets x and y according to position.\"\"\"\n",
    "        self.x, self.y = self.world.project(self)\n",
    "\n",
    "    def accelerate(self, change):\n",
    "        \"\"\"Speeds up the Turtle by the given amount, within bounds.\"\"\"\n",
    "        self.speed += change\n",
    "        if self.speed < 0:\n",
    "            self.speed = 0\n",
    "\n",
    "        if self.speed > self.speed_limit:\n",
    "            self.speed = self.speed_limit\n",
    "\n",
    "    def brake(self, change):\n",
    "        \"\"\"Slows down the Turtle by the given amount, within bounds.\"\"\"\n",
    "        self.accelerate(-change)\n",
    "\n",
    "    def step(self):\n",
    "        \"\"\"Checks the distance to the next driver, adjusts speed, and moves.\n",
    "        \n",
    "        This function enforces the rules for all drivers.\n",
    "        \n",
    "        Driver decision-making is in choose_acceleration().\n",
    "        \"\"\"\n",
    "        dist = self.find_distance()\n",
    "\n",
    "        # get acceleration\n",
    "        change = self.choose_acceleration(dist)\n",
    "        self.accelerate(change)\n",
    "\n",
    "        # if the resulting speed would cause a collision, jam on the brakes\n",
    "        if self.speed > dist:\n",
    "            self.speed = 0\n",
    "\n",
    "        # move\n",
    "        self.position += self.speed\n",
    "        self.project()\n",
    "        self.redraw()\n",
    "\n",
    "    def find_distance(self):\n",
    "        \"\"\"Finds the distance between this Turtle and the next.\"\"\"\n",
    "        dist = self.next.position - self.position\n",
    "\n",
    "        # deal with wrap-around\n",
    "        if dist < 0:\n",
    "            dist += self.world.get_length()\n",
    "        return dist\n",
    "\n",
    "    def choose_acceleration(self, dist):\n",
    "        \"\"\"Adjusts the speed of the Driver.\"\"\"\n",
    "        if dist < self.safe_distance:\n",
    "            return -1\n",
    "        else:\n",
    "            return 0.3\n",
    "\n",
    "    \n",
    "def make_highway(n, driver=Driver):\n",
    "    \"\"\"Make the highway and drivers, then run the simulation.\n",
    "    Args:\n",
    "        n: number of Drivers\n",
    "        driver: constructor\n",
    "    \"\"\"\n",
    "\n",
    "    # create the highway\n",
    "    world = Highway()\n",
    "    world.canvas.clear_transforms()\n",
    "    world.setup_run()\n",
    "\n",
    "    # create (n) drivers\n",
    "    world.make_drivers(n, driver)\n",
    "\n",
    "    # start the simulation, then wait for user events\n",
    "    print len(world.animals)\n",
    "    world.run()\n",
    "    world.mainloop()\n",
    "\n",
    "\n",
    "def main(script, n=20):\n",
    "    n = int(n)\n",
    "    make_highway(n)\n",
    "\n",
    "\n",
    "if __name__ == '__main__':\n",
    "    import sys\n",
    "    main(*sys.argv)"
   ]
  },
  {
   "cell_type": "code",
   "execution_count": 68,
   "metadata": {
    "collapsed": true
   },
   "outputs": [],
   "source": [
    "%matplotlib inline"
   ]
  },
  {
   "cell_type": "code",
   "execution_count": 69,
   "metadata": {
    "collapsed": false
   },
   "outputs": [],
   "source": [
    "import sys\n",
    "sys.path.append(\"..\")"
   ]
  },
  {
   "cell_type": "code",
   "execution_count": 70,
   "metadata": {
    "collapsed": false
   },
   "outputs": [
    {
     "ename": "ImportError",
     "evalue": "No module named TurtleWorld",
     "output_type": "error",
     "traceback": [
      "\u001b[1;31m---------------------------------------------------------------------------\u001b[0m",
      "\u001b[1;31mImportError\u001b[0m                               Traceback (most recent call last)",
      "\u001b[1;32m<ipython-input-70-030fa5b8d57b>\u001b[0m in \u001b[0;36m<module>\u001b[1;34m()\u001b[0m\n\u001b[1;32m----> 1\u001b[1;33m \u001b[1;32mfrom\u001b[0m \u001b[0mHighway\u001b[0m \u001b[1;32mimport\u001b[0m \u001b[1;33m*\u001b[0m\u001b[1;33m\u001b[0m\u001b[0m\n\u001b[0m",
      "\u001b[1;32mC:\\Python27\\Lib\\Highway.py\u001b[0m in \u001b[0;36m<module>\u001b[1;34m()\u001b[0m\n\u001b[0;32m     11\u001b[0m \u001b[1;32mimport\u001b[0m \u001b[0mrandom\u001b[0m\u001b[1;33m\u001b[0m\u001b[0m\n\u001b[0;32m     12\u001b[0m \u001b[1;33m\u001b[0m\u001b[0m\n\u001b[1;32m---> 13\u001b[1;33m \u001b[1;32mfrom\u001b[0m \u001b[0mTurtleWorld\u001b[0m \u001b[1;32mimport\u001b[0m \u001b[0mTurtleWorld\u001b[0m\u001b[1;33m,\u001b[0m \u001b[0mTurtle\u001b[0m\u001b[1;33m\u001b[0m\u001b[0m\n\u001b[0m\u001b[0;32m     14\u001b[0m \u001b[1;32mimport\u001b[0m \u001b[0mcolor_list\u001b[0m\u001b[1;33m\u001b[0m\u001b[0m\n\u001b[0;32m     15\u001b[0m \u001b[1;33m\u001b[0m\u001b[0m\n",
      "\u001b[1;31mImportError\u001b[0m: No module named TurtleWorld"
     ]
    }
   ],
   "source": [
    "from Highway import *"
   ]
  },
  {
   "cell_type": "code",
   "execution_count": 73,
   "metadata": {
    "collapsed": false
   },
   "outputs": [
    {
     "ename": "TypeError",
     "evalue": "main() takes at most 2 arguments (3 given)",
     "output_type": "error",
     "traceback": [
      "\u001b[1;31m---------------------------------------------------------------------------\u001b[0m",
      "\u001b[1;31mTypeError\u001b[0m                                 Traceback (most recent call last)",
      "\u001b[1;32m<ipython-input-73-1165c30bfea9>\u001b[0m in \u001b[0;36m<module>\u001b[1;34m()\u001b[0m\n\u001b[1;32m----> 1\u001b[1;33m \u001b[1;32mclass\u001b[0m \u001b[0mBadDriver\u001b[0m\u001b[1;33m(\u001b[0m\u001b[0mDriver\u001b[0m\u001b[1;33m)\u001b[0m\u001b[1;33m:\u001b[0m\u001b[1;33m\u001b[0m\u001b[0m\n\u001b[0m\u001b[0;32m      2\u001b[0m     \u001b[1;32mdef\u001b[0m \u001b[0mchoose_speed\u001b[0m\u001b[1;33m(\u001b[0m\u001b[0mself\u001b[0m\u001b[1;33m,\u001b[0m \u001b[0mdist\u001b[0m\u001b[1;33m)\u001b[0m\u001b[1;33m:\u001b[0m\u001b[1;33m\u001b[0m\u001b[0m\n\u001b[0;32m      3\u001b[0m         \"\"\"adjust the speed of the Driver according to the following\n\u001b[0;32m      4\u001b[0m         distance.\"\"\"\n\u001b[0;32m      5\u001b[0m \u001b[1;33m\u001b[0m\u001b[0m\n",
      "\u001b[1;32m<ipython-input-73-1165c30bfea9>\u001b[0m in \u001b[0;36mBadDriver\u001b[1;34m()\u001b[0m\n\u001b[0;32m     20\u001b[0m     \u001b[1;32mif\u001b[0m \u001b[0m__name__\u001b[0m \u001b[1;33m==\u001b[0m \u001b[1;34m'__main__'\u001b[0m\u001b[1;33m:\u001b[0m\u001b[1;33m\u001b[0m\u001b[0m\n\u001b[0;32m     21\u001b[0m         \u001b[1;32mimport\u001b[0m \u001b[0msys\u001b[0m\u001b[1;33m\u001b[0m\u001b[0m\n\u001b[1;32m---> 22\u001b[1;33m         \u001b[0mmain\u001b[0m\u001b[1;33m(\u001b[0m\u001b[1;33m*\u001b[0m\u001b[0msys\u001b[0m\u001b[1;33m.\u001b[0m\u001b[0margv\u001b[0m\u001b[1;33m)\u001b[0m\u001b[1;33m\u001b[0m\u001b[0m\n\u001b[0m",
      "\u001b[1;31mTypeError\u001b[0m: main() takes at most 2 arguments (3 given)"
     ]
    }
   ],
   "source": [
    "class BadDriver(Driver):\n",
    "    def choose_speed(self, dist):\n",
    "        \"\"\"adjust the speed of the Driver according to the following\n",
    "        distance.\"\"\"\n",
    "\n",
    "        # if there's enough space, speed up; otherwise, slow down\n",
    "        if dist > 50:\n",
    "            self.speed += 1\n",
    "        else:\n",
    "            self.speed -= 3\n",
    "\n",
    "        # can't go backward; can't exceed the speed limit\n",
    "        self.speed = max(self.speed, 0)\n",
    "        self.speed = min(self.speed, 10)\n",
    "  \n",
    "    def main(script, n=50):\n",
    "            n = int(n)\n",
    "            make_highway(n, BadDriver)\n",
    "\n",
    "    if __name__ == '__main__':\n",
    "        import sys\n",
    "        main(*sys.argv)"
   ]
  },
  {
   "cell_type": "code",
   "execution_count": null,
   "metadata": {
    "collapsed": true
   },
   "outputs": [],
   "source": []
  }
 ],
 "metadata": {
  "kernelspec": {
   "display_name": "Python 2",
   "language": "python",
   "name": "python2"
  },
  "language_info": {
   "codemirror_mode": {
    "name": "ipython",
    "version": 2
   },
   "file_extension": ".py",
   "mimetype": "text/x-python",
   "name": "python",
   "nbconvert_exporter": "python",
   "pygments_lexer": "ipython2",
   "version": "2.7.11"
  }
 },
 "nbformat": 4,
 "nbformat_minor": 0
}
