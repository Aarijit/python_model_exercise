{
 "cells": [
  {
   "cell_type": "code",
   "execution_count": 1,
   "metadata": {
    "collapsed": false
   },
   "outputs": [],
   "source": [
    "# -*- coding: utf-8 -*-\n",
    "\"\"\"\n",
    "Make sure you give execute privileges\n",
    "-----------------------------------------------------------------------------\n",
    "\n",
    "           Spark with Python: Setup Spyder IDE for Spark\n",
    "\n",
    "             Copyright : V2 Maestros @2016\n",
    "                    \n",
    "Execute this script once when Spyder is started on Windows\n",
    "-----------------------------------------------------------------------------\n",
    "\"\"\"\n",
    "\n",
    "import os\n",
    "import sys\n",
    "os.chdir(\"D:/SPARK/Practice_Problems/Kaggle/Titanic/Data\")\n",
    "os.curdir\n",
    "\n",
    "# Configure the environment. Set this up to the directory where\n",
    "# Spark is installed\n",
    "if 'SPARK_HOME' not in os.environ:\n",
    "    os.environ['SPARK_HOME'] = 'C:/Spark/spark-1.6.0-bin-hadoop2.6'\n",
    "\n",
    "# Create a variable for our root path\n",
    "SPARK_HOME = os.environ['SPARK_HOME']\n",
    "\n",
    "#Add the following paths to the system path. Please check your installation\n",
    "#to make sure that these zip files actually exist. The names might change\n",
    "#as versions change.\n",
    "sys.path.insert(0,os.path.join(SPARK_HOME,\"python\"))\n",
    "sys.path.insert(0,os.path.join(SPARK_HOME,\"python\",\"lib\"))\n",
    "sys.path.insert(0,os.path.join(SPARK_HOME,\"python\",\"lib\",\"pyspark.zip\"))\n",
    "sys.path.insert(0,os.path.join(SPARK_HOME,\"python\",\"lib\",\"py4j-0.9-src.zip\"))\n",
    "\n",
    "#Initiate Spark context. Once this is done all other applications can run\n",
    "from pyspark import SparkContext\n",
    "from pyspark import SparkConf\n",
    "\n",
    "# Optionally configure Spark Settings\n",
    "conf=SparkConf()\n",
    "conf.set(\"spark.executor.memory\", \"12g\")\n",
    "conf.set(\"spark.cores.max\", \"4\")\n",
    "\n",
    "conf.setAppName(\"ma\")\n",
    "\n",
    "## Initialize SparkContext. Run only once. Otherwise you get multiple \n",
    "#Context Error.\n",
    "sc = SparkContext('local', conf=conf)\n"
   ]
  },
  {
   "cell_type": "markdown",
   "metadata": {},
   "source": [
    "Load the data"
   ]
  },
  {
   "cell_type": "code",
   "execution_count": 77,
   "metadata": {
    "collapsed": false
   },
   "outputs": [
    {
     "data": {
      "text/plain": [
       "892"
      ]
     },
     "execution_count": 77,
     "metadata": {},
     "output_type": "execute_result"
    }
   ],
   "source": [
    "#Load the CSV file into a RDD\n",
    "titanicData = sc.textFile(\"train.csv\")\n",
    "titanicData.count()\n"
   ]
  },
  {
   "cell_type": "markdown",
   "metadata": {},
   "source": [
    "Import pyspark.SQL"
   ]
  },
  {
   "cell_type": "code",
   "execution_count": 79,
   "metadata": {
    "collapsed": false
   },
   "outputs": [],
   "source": [
    "from pyspark import SparkConf, SparkContext\n",
    "from pyspark.sql import *\n",
    "import collections\n",
    "from pyspark.sql.types import *\n",
    "sqlContext = SQLContext(sc)"
   ]
  },
  {
   "cell_type": "markdown",
   "metadata": {},
   "source": [
    "Cleaning Header of the csv"
   ]
  },
  {
   "cell_type": "code",
   "execution_count": 80,
   "metadata": {
    "collapsed": false
   },
   "outputs": [
    {
     "data": {
      "text/plain": [
       "u'PassengerId,Survived,Pclass,Sex,Age,SibSp,Parch,Fare,Embarked'"
      ]
     },
     "execution_count": 80,
     "metadata": {},
     "output_type": "execute_result"
    }
   ],
   "source": [
    "header=titanicData.first()\n",
    "header"
   ]
  },
  {
   "cell_type": "markdown",
   "metadata": {},
   "source": [
    "Split the header to get schema"
   ]
  },
  {
   "cell_type": "code",
   "execution_count": 91,
   "metadata": {
    "collapsed": false
   },
   "outputs": [
    {
     "data": {
      "text/plain": [
       "[StructField(PassengerId,StringType,true),\n",
       " StructField(Survived,StringType,true),\n",
       " StructField(Pclass,StringType,true),\n",
       " StructField(Sex,StringType,true),\n",
       " StructField(Age,StringType,true),\n",
       " StructField(SibSp,StringType,true),\n",
       " StructField(Parch,StringType,true),\n",
       " StructField(Fare,StringType,true),\n",
       " StructField(Embarked,StringType,true)]"
      ]
     },
     "execution_count": 91,
     "metadata": {},
     "output_type": "execute_result"
    }
   ],
   "source": [
    "fields = [StructField(field_name, StringType(), True) for field_name in header.split(',')]\n",
    "fields"
   ]
  },
  {
   "cell_type": "markdown",
   "metadata": {},
   "source": [
    "Assign appropriate datatype"
   ]
  },
  {
   "cell_type": "code",
   "execution_count": 143,
   "metadata": {
    "collapsed": false
   },
   "outputs": [
    {
     "data": {
      "text/plain": [
       "[StructField(PassengerId,IntegerType,true),\n",
       " StructField(Survived,IntegerType,true),\n",
       " StructField(Pclass,IntegerType,true),\n",
       " StructField(Sex,StringType,true),\n",
       " StructField(Age,FloatType,true),\n",
       " StructField(SibSp,IntegerType,true),\n",
       " StructField(Parch,IntegerType,true),\n",
       " StructField(Fare,FloatType,true),\n",
       " StructField(Embarked,StringType,true)]"
      ]
     },
     "execution_count": 143,
     "metadata": {},
     "output_type": "execute_result"
    }
   ],
   "source": [
    "fields[0].dataType = IntegerType()\n",
    "fields[1].dataType = IntegerType()\n",
    "fields[2].dataType = IntegerType()\n",
    "fields[3].dataType = StringType()\n",
    "fields[4].dataType = FloatType()\n",
    "fields[5].dataType = IntegerType()\n",
    "fields[6].dataType = IntegerType()\n",
    "fields[7].dataType = FloatType()\n",
    "fields[8].dataType = StringType()\n",
    "fields"
   ]
  },
  {
   "cell_type": "markdown",
   "metadata": {},
   "source": [
    "We can construct our schema, which we will use later below for building the data frame"
   ]
  },
  {
   "cell_type": "code",
   "execution_count": 93,
   "metadata": {
    "collapsed": true
   },
   "outputs": [],
   "source": [
    "schema = StructType(fields)"
   ]
  },
  {
   "cell_type": "markdown",
   "metadata": {},
   "source": [
    "Remove the header using filter"
   ]
  },
  {
   "cell_type": "code",
   "execution_count": 94,
   "metadata": {
    "collapsed": false
   },
   "outputs": [
    {
     "data": {
      "text/plain": [
       "[u'1,0,3,male,22,1,0,7.25,S']"
      ]
     },
     "execution_count": 94,
     "metadata": {},
     "output_type": "execute_result"
    }
   ],
   "source": [
    "titanicFile=titanicData.filter(lambda x: x!=header)\n",
    "titanicFile.take(1)"
   ]
  },
  {
   "cell_type": "code",
   "execution_count": 95,
   "metadata": {
    "collapsed": false
   },
   "outputs": [
    {
     "data": {
      "text/plain": [
       "[(891, 0, 3, u'male', 32.0, 0, 0, 7.75, u'Q'),\n",
       " (890, 1, 1, u'male', 26.0, 0, 0, 30.0, u'C')]"
      ]
     },
     "execution_count": 95,
     "metadata": {},
     "output_type": "execute_result"
    }
   ],
   "source": [
    "titanic_temp = titanicFile.map(lambda k: k.split(\",\")).map(lambda p: (int(p[0]), int(p[1]), int(p[2]), p[3], float(p[4]) , int(p[5]), int(p[6]) ,float(p[7]), p[8]))\n",
    "titanic_temp.top(2) "
   ]
  },
  {
   "cell_type": "markdown",
   "metadata": {},
   "source": [
    "Assigning datatype through schema"
   ]
  },
  {
   "cell_type": "code",
   "execution_count": 96,
   "metadata": {
    "collapsed": false
   },
   "outputs": [
    {
     "data": {
      "text/plain": [
       "[Row(PassengerId=1, Survived=0, Pclass=3, Sex=u'male', Age=22.0, SibSp=1, Parch=0, Fare=7.25, Embarked=u'S'),\n",
       " Row(PassengerId=2, Survived=1, Pclass=1, Sex=u'female', Age=38.0, SibSp=1, Parch=0, Fare=71.2833023071289, Embarked=u'C'),\n",
       " Row(PassengerId=3, Survived=1, Pclass=3, Sex=u'female', Age=26.0, SibSp=0, Parch=0, Fare=7.925000190734863, Embarked=u'S'),\n",
       " Row(PassengerId=4, Survived=1, Pclass=1, Sex=u'female', Age=35.0, SibSp=1, Parch=0, Fare=53.099998474121094, Embarked=u'S'),\n",
       " Row(PassengerId=5, Survived=0, Pclass=3, Sex=u'male', Age=35.0, SibSp=0, Parch=0, Fare=8.050000190734863, Embarked=u'S'),\n",
       " Row(PassengerId=6, Survived=0, Pclass=3, Sex=u'male', Age=0.0, SibSp=0, Parch=0, Fare=8.45829963684082, Embarked=u'Q'),\n",
       " Row(PassengerId=7, Survived=0, Pclass=1, Sex=u'male', Age=54.0, SibSp=0, Parch=0, Fare=51.86249923706055, Embarked=u'S'),\n",
       " Row(PassengerId=8, Survived=0, Pclass=3, Sex=u'male', Age=2.0, SibSp=3, Parch=1, Fare=21.075000762939453, Embarked=u'S'),\n",
       " Row(PassengerId=9, Survived=1, Pclass=3, Sex=u'female', Age=27.0, SibSp=0, Parch=2, Fare=11.133299827575684, Embarked=u'S'),\n",
       " Row(PassengerId=10, Survived=1, Pclass=2, Sex=u'female', Age=14.0, SibSp=1, Parch=0, Fare=30.07080078125, Embarked=u'C')]"
      ]
     },
     "execution_count": 96,
     "metadata": {},
     "output_type": "execute_result"
    }
   ],
   "source": [
    "titanicDF = sqlContext.createDataFrame(titanic_temp, schema)\n",
    "titanicDF.head(10)"
   ]
  },
  {
   "cell_type": "markdown",
   "metadata": {},
   "source": [
    "Convert character into factor variables"
   ]
  },
  {
   "cell_type": "code",
   "execution_count": null,
   "metadata": {
    "collapsed": true
   },
   "outputs": [],
   "source": [
    "from pyspark.ml.feature import StringIndexer\n",
    "\n",
    "indexer = StringIndexer(inputCol=\"Sex\", outputCol=\"SexInd\")\n",
    "indexed = indexer.fit(titanicDF).transform(titanicDF)\n",
    "indexer1 = StringIndexer(inputCol=\"Embarked\", outputCol=\"EmbInd\")\n",
    "indexed1 = indexer1.fit(indexed).transform(indexed)\n",
    "indexed1.show()"
   ]
  },
  {
   "cell_type": "code",
   "execution_count": 111,
   "metadata": {
    "collapsed": true
   },
   "outputs": [],
   "source": [
    "from pyspark.mllib.regression import LabeledPoint"
   ]
  },
  {
   "cell_type": "markdown",
   "metadata": {},
   "source": [
    "Drop character columns"
   ]
  },
  {
   "cell_type": "code",
   "execution_count": 122,
   "metadata": {
    "collapsed": false
   },
   "outputs": [
    {
     "name": "stdout",
     "output_type": "stream",
     "text": [
      "+--------+------+----+-----+-----+-------+------+------+\n",
      "|Survived|Pclass| Age|SibSp|Parch|   Fare|SexInd|EmbInd|\n",
      "+--------+------+----+-----+-----+-------+------+------+\n",
      "|       0|     3|22.0|    1|    0|   7.25|   0.0|   0.0|\n",
      "|       1|     1|38.0|    1|    0|71.2833|   1.0|   1.0|\n",
      "|       1|     3|26.0|    0|    0|  7.925|   1.0|   0.0|\n",
      "|       1|     1|35.0|    1|    0|   53.1|   1.0|   0.0|\n",
      "|       0|     3|35.0|    0|    0|   8.05|   0.0|   0.0|\n",
      "|       0|     3| 0.0|    0|    0| 8.4583|   0.0|   2.0|\n",
      "|       0|     1|54.0|    0|    0|51.8625|   0.0|   0.0|\n",
      "|       0|     3| 2.0|    3|    1| 21.075|   0.0|   0.0|\n",
      "|       1|     3|27.0|    0|    2|11.1333|   1.0|   0.0|\n",
      "|       1|     2|14.0|    1|    0|30.0708|   1.0|   1.0|\n",
      "|       1|     3| 4.0|    1|    1|   16.7|   1.0|   0.0|\n",
      "|       1|     1|58.0|    0|    0|  26.55|   1.0|   0.0|\n",
      "|       0|     3|20.0|    0|    0|   8.05|   0.0|   0.0|\n",
      "|       0|     3|39.0|    1|    5| 31.275|   0.0|   0.0|\n",
      "|       0|     3|14.0|    0|    0| 7.8542|   1.0|   0.0|\n",
      "|       1|     2|55.0|    0|    0|   16.0|   1.0|   0.0|\n",
      "|       0|     3| 2.0|    4|    1| 29.125|   0.0|   2.0|\n",
      "|       1|     2| 0.0|    0|    0|   13.0|   0.0|   0.0|\n",
      "|       0|     3|31.0|    1|    0|   18.0|   1.0|   0.0|\n",
      "|       1|     3| 0.0|    0|    0|  7.225|   1.0|   1.0|\n",
      "+--------+------+----+-----+-----+-------+------+------+\n",
      "only showing top 20 rows\n",
      "\n"
     ]
    }
   ],
   "source": [
    "drop_list = ['PassengerId','Sex','Embarked']\n",
    "\n",
    "titanicDF1=indexed1.select([column for column in indexed1.columns if column not in drop_list])\n",
    "\n",
    "titanicDF1.show()"
   ]
  },
  {
   "cell_type": "markdown",
   "metadata": {},
   "source": [
    "Create label-features"
   ]
  },
  {
   "cell_type": "code",
   "execution_count": 129,
   "metadata": {
    "collapsed": false
   },
   "outputs": [
    {
     "name": "stdout",
     "output_type": "stream",
     "text": [
      "+-----+--------------------+\n",
      "|label|            features|\n",
      "+-----+--------------------+\n",
      "|    0|[3.0,22.0,1.0,0.0...|\n",
      "|    1|[1.0,38.0,1.0,0.0...|\n",
      "|    1|[3.0,26.0,0.0,0.0...|\n",
      "|    1|[1.0,35.0,1.0,0.0...|\n",
      "|    0|[3.0,35.0,0.0,0.0...|\n",
      "|    0|[3.0,0.0,0.0,0.0,...|\n",
      "|    0|[1.0,54.0,0.0,0.0...|\n",
      "|    0|[3.0,2.0,3.0,1.0,...|\n",
      "|    1|[3.0,27.0,0.0,2.0...|\n",
      "|    1|[2.0,14.0,1.0,0.0...|\n",
      "+-----+--------------------+\n",
      "only showing top 10 rows\n",
      "\n"
     ]
    }
   ],
   "source": [
    "def transformToLabeledPoint(inStr) :\n",
    "    lp = ( int(inStr[0]), Vectors.dense([inStr[1],inStr[2],inStr[3],inStr[4],inStr[5],inStr[6],inStr[7]]))\n",
    "    return lp\n",
    "titanicDF2 = titanicDF1.map(transformToLabeledPoint)\n",
    "titanicDF3 = sqlContext.createDataFrame(titanicDF2,[\"label\", \"features\"])\n",
    "titanicDF3.select(\"label\",\"features\").show(10)\n"
   ]
  },
  {
   "cell_type": "markdown",
   "metadata": {},
   "source": [
    "Split the data into training and test"
   ]
  },
  {
   "cell_type": "code",
   "execution_count": 130,
   "metadata": {
    "collapsed": false
   },
   "outputs": [
    {
     "data": {
      "text/plain": [
       "[Row(label=0, features=DenseVector([1.0, 0.0, 0.0, 0.0, 0.0, 0.0, 0.0])),\n",
       " Row(label=0, features=DenseVector([1.0, 0.0, 0.0, 0.0, 26.55, 0.0, 0.0])),\n",
       " Row(label=0, features=DenseVector([1.0, 0.0, 0.0, 0.0, 30.6958, 0.0, 1.0])),\n",
       " Row(label=0, features=DenseVector([1.0, 0.0, 0.0, 0.0, 35.0, 0.0, 0.0])),\n",
       " Row(label=0, features=DenseVector([1.0, 0.0, 0.0, 0.0, 42.4, 0.0, 0.0])),\n",
       " Row(label=0, features=DenseVector([1.0, 0.0, 0.0, 0.0, 227.525, 0.0, 1.0])),\n",
       " Row(label=0, features=DenseVector([1.0, 18.0, 1.0, 0.0, 108.9, 0.0, 1.0])),\n",
       " Row(label=0, features=DenseVector([1.0, 28.0, 0.0, 0.0, 47.1, 0.0, 0.0])),\n",
       " Row(label=0, features=DenseVector([1.0, 31.0, 0.0, 0.0, 50.4958, 0.0, 0.0])),\n",
       " Row(label=0, features=DenseVector([1.0, 38.0, 0.0, 0.0, 0.0, 0.0, 0.0])),\n",
       " Row(label=0, features=DenseVector([1.0, 40.0, 0.0, 0.0, 0.0, 0.0, 0.0])),\n",
       " Row(label=0, features=DenseVector([1.0, 45.0, 0.0, 0.0, 35.5, 0.0, 0.0])),\n",
       " Row(label=0, features=DenseVector([1.0, 45.0, 1.0, 0.0, 83.475, 0.0, 0.0])),\n",
       " Row(label=0, features=DenseVector([1.0, 46.0, 0.0, 0.0, 79.2, 0.0, 1.0])),\n",
       " Row(label=0, features=DenseVector([1.0, 47.0, 0.0, 0.0, 34.0208, 0.0, 0.0])),\n",
       " Row(label=0, features=DenseVector([1.0, 47.0, 0.0, 0.0, 52.0, 0.0, 0.0])),\n",
       " Row(label=0, features=DenseVector([1.0, 49.0, 1.0, 1.0, 110.8833, 0.0, 1.0])),\n",
       " Row(label=0, features=DenseVector([1.0, 50.0, 0.0, 0.0, 28.7125, 1.0, 1.0])),\n",
       " Row(label=0, features=DenseVector([1.0, 54.0, 0.0, 0.0, 51.8625, 0.0, 0.0])),\n",
       " Row(label=0, features=DenseVector([1.0, 56.0, 0.0, 0.0, 30.6958, 0.0, 1.0])),\n",
       " Row(label=0, features=DenseVector([1.0, 58.0, 0.0, 2.0, 113.275, 0.0, 1.0])),\n",
       " Row(label=0, features=DenseVector([1.0, 60.0, 0.0, 0.0, 26.55, 0.0, 0.0])),\n",
       " Row(label=0, features=DenseVector([1.0, 61.0, 0.0, 0.0, 32.3208, 0.0, 0.0])),\n",
       " Row(label=0, features=DenseVector([1.0, 64.0, 1.0, 4.0, 263.0, 0.0, 0.0])),\n",
       " Row(label=0, features=DenseVector([1.0, 70.0, 1.0, 1.0, 71.0, 0.0, 0.0])),\n",
       " Row(label=0, features=DenseVector([2.0, 0.0, 0.0, 0.0, 0.0, 0.0, 0.0])),\n",
       " Row(label=0, features=DenseVector([2.0, 16.0, 0.0, 0.0, 10.5, 0.0, 0.0])),\n",
       " Row(label=0, features=DenseVector([2.0, 16.0, 0.0, 0.0, 26.0, 0.0, 0.0])),\n",
       " Row(label=0, features=DenseVector([2.0, 18.0, 0.0, 0.0, 11.5, 0.0, 0.0])),\n",
       " Row(label=0, features=DenseVector([2.0, 19.0, 0.0, 0.0, 13.0, 0.0, 0.0])),\n",
       " Row(label=0, features=DenseVector([2.0, 21.0, 2.0, 0.0, 73.5, 0.0, 0.0])),\n",
       " Row(label=0, features=DenseVector([2.0, 23.0, 0.0, 0.0, 13.0, 0.0, 0.0])),\n",
       " Row(label=0, features=DenseVector([2.0, 23.0, 0.0, 0.0, 13.0, 0.0, 0.0])),\n",
       " Row(label=0, features=DenseVector([2.0, 23.0, 0.0, 0.0, 15.0458, 0.0, 1.0])),\n",
       " Row(label=0, features=DenseVector([2.0, 24.0, 0.0, 0.0, 13.0, 0.0, 0.0])),\n",
       " Row(label=0, features=DenseVector([2.0, 25.0, 0.0, 0.0, 13.0, 0.0, 0.0])),\n",
       " Row(label=0, features=DenseVector([2.0, 25.0, 1.0, 0.0, 26.0, 0.0, 0.0])),\n",
       " Row(label=0, features=DenseVector([2.0, 26.0, 1.0, 1.0, 26.0, 1.0, 0.0])),\n",
       " Row(label=0, features=DenseVector([2.0, 27.0, 0.0, 0.0, 26.0, 0.0, 0.0])),\n",
       " Row(label=0, features=DenseVector([2.0, 28.0, 0.0, 0.0, 10.5, 0.0, 0.0])),\n",
       " Row(label=0, features=DenseVector([2.0, 28.0, 0.0, 1.0, 33.0, 0.0, 0.0])),\n",
       " Row(label=0, features=DenseVector([2.0, 30.0, 0.0, 0.0, 13.0, 0.0, 0.0])),\n",
       " Row(label=0, features=DenseVector([2.0, 32.5, 1.0, 0.0, 30.0708, 0.0, 1.0])),\n",
       " Row(label=0, features=DenseVector([2.0, 33.0, 0.0, 0.0, 12.275, 0.0, 0.0])),\n",
       " Row(label=0, features=DenseVector([2.0, 34.0, 0.0, 0.0, 13.0, 0.0, 0.0])),\n",
       " Row(label=0, features=DenseVector([2.0, 34.0, 1.0, 0.0, 26.0, 0.0, 0.0])),\n",
       " Row(label=0, features=DenseVector([2.0, 35.0, 0.0, 0.0, 26.0, 0.0, 0.0])),\n",
       " Row(label=0, features=DenseVector([2.0, 36.0, 1.0, 2.0, 27.75, 0.0, 0.0])),\n",
       " Row(label=0, features=DenseVector([2.0, 36.5, 0.0, 2.0, 26.0, 0.0, 0.0])),\n",
       " Row(label=0, features=DenseVector([2.0, 43.0, 1.0, 1.0, 26.25, 0.0, 0.0])),\n",
       " Row(label=0, features=DenseVector([2.0, 70.0, 0.0, 0.0, 10.5, 0.0, 0.0])),\n",
       " Row(label=0, features=DenseVector([3.0, 0.0, 0.0, 0.0, 7.225, 0.0, 1.0])),\n",
       " Row(label=0, features=DenseVector([3.0, 0.0, 0.0, 0.0, 7.2292, 0.0, 1.0])),\n",
       " Row(label=0, features=DenseVector([3.0, 0.0, 0.0, 0.0, 7.2292, 0.0, 1.0])),\n",
       " Row(label=0, features=DenseVector([3.0, 0.0, 0.0, 0.0, 7.25, 0.0, 0.0])),\n",
       " Row(label=0, features=DenseVector([3.0, 0.0, 0.0, 0.0, 7.75, 0.0, 2.0])),\n",
       " Row(label=0, features=DenseVector([3.0, 0.0, 0.0, 0.0, 7.75, 0.0, 2.0])),\n",
       " Row(label=0, features=DenseVector([3.0, 0.0, 0.0, 0.0, 7.75, 0.0, 2.0])),\n",
       " Row(label=0, features=DenseVector([3.0, 0.0, 0.0, 0.0, 7.8292, 0.0, 2.0])),\n",
       " Row(label=0, features=DenseVector([3.0, 0.0, 0.0, 0.0, 7.8958, 0.0, 0.0])),\n",
       " Row(label=0, features=DenseVector([3.0, 0.0, 0.0, 0.0, 7.8958, 0.0, 0.0])),\n",
       " Row(label=0, features=DenseVector([3.0, 0.0, 0.0, 0.0, 7.8958, 0.0, 0.0])),\n",
       " Row(label=0, features=DenseVector([3.0, 0.0, 0.0, 0.0, 7.8958, 0.0, 0.0])),\n",
       " Row(label=0, features=DenseVector([3.0, 0.0, 0.0, 0.0, 8.05, 0.0, 0.0])),\n",
       " Row(label=0, features=DenseVector([3.0, 0.0, 0.0, 0.0, 8.05, 0.0, 0.0])),\n",
       " Row(label=0, features=DenseVector([3.0, 0.0, 0.0, 0.0, 8.05, 0.0, 0.0])),\n",
       " Row(label=0, features=DenseVector([3.0, 0.0, 0.0, 0.0, 8.05, 0.0, 0.0])),\n",
       " Row(label=0, features=DenseVector([3.0, 0.0, 0.0, 0.0, 8.05, 1.0, 0.0])),\n",
       " Row(label=0, features=DenseVector([3.0, 0.0, 0.0, 0.0, 8.4583, 0.0, 2.0])),\n",
       " Row(label=0, features=DenseVector([3.0, 0.0, 0.0, 0.0, 9.5, 0.0, 0.0])),\n",
       " Row(label=0, features=DenseVector([3.0, 0.0, 0.0, 0.0, 14.4583, 0.0, 1.0])),\n",
       " Row(label=0, features=DenseVector([3.0, 0.0, 0.0, 0.0, 15.1, 0.0, 0.0])),\n",
       " Row(label=0, features=DenseVector([3.0, 0.0, 0.0, 2.0, 7.75, 1.0, 2.0])),\n",
       " Row(label=0, features=DenseVector([3.0, 0.0, 1.0, 0.0, 7.75, 0.0, 2.0])),\n",
       " Row(label=0, features=DenseVector([3.0, 0.0, 1.0, 0.0, 16.1, 0.0, 0.0])),\n",
       " Row(label=0, features=DenseVector([3.0, 0.0, 1.0, 0.0, 24.15, 0.0, 2.0])),\n",
       " Row(label=0, features=DenseVector([3.0, 0.0, 1.0, 2.0, 23.45, 1.0, 0.0])),\n",
       " Row(label=0, features=DenseVector([3.0, 0.0, 3.0, 1.0, 25.4667, 1.0, 0.0])),\n",
       " Row(label=0, features=DenseVector([3.0, 0.0, 3.0, 1.0, 25.4667, 1.0, 0.0])),\n",
       " Row(label=0, features=DenseVector([3.0, 0.0, 8.0, 2.0, 69.55, 1.0, 0.0])),\n",
       " Row(label=0, features=DenseVector([3.0, 0.0, 8.0, 2.0, 69.55, 1.0, 0.0])),\n",
       " Row(label=0, features=DenseVector([3.0, 2.0, 4.0, 2.0, 31.275, 1.0, 0.0])),\n",
       " Row(label=0, features=DenseVector([3.0, 3.0, 3.0, 1.0, 21.075, 1.0, 0.0])),\n",
       " Row(label=0, features=DenseVector([3.0, 4.0, 4.0, 2.0, 31.275, 0.0, 0.0])),\n",
       " Row(label=0, features=DenseVector([3.0, 8.0, 3.0, 1.0, 21.075, 1.0, 0.0])),\n",
       " Row(label=0, features=DenseVector([3.0, 8.0, 4.0, 1.0, 29.125, 0.0, 2.0])),\n",
       " Row(label=0, features=DenseVector([3.0, 9.0, 3.0, 2.0, 27.9, 1.0, 0.0])),\n",
       " Row(label=0, features=DenseVector([3.0, 9.0, 4.0, 2.0, 31.275, 1.0, 0.0])),\n",
       " Row(label=0, features=DenseVector([3.0, 9.0, 4.0, 2.0, 31.3875, 0.0, 0.0])),\n",
       " Row(label=0, features=DenseVector([3.0, 9.0, 5.0, 2.0, 46.9, 0.0, 0.0])),\n",
       " Row(label=0, features=DenseVector([3.0, 10.0, 0.0, 2.0, 24.15, 1.0, 0.0])),\n",
       " Row(label=0, features=DenseVector([3.0, 16.0, 0.0, 0.0, 8.05, 0.0, 0.0])),\n",
       " Row(label=0, features=DenseVector([3.0, 16.0, 1.0, 1.0, 20.25, 0.0, 0.0])),\n",
       " Row(label=0, features=DenseVector([3.0, 16.0, 4.0, 1.0, 39.6875, 0.0, 0.0])),\n",
       " Row(label=0, features=DenseVector([3.0, 17.0, 0.0, 0.0, 8.6625, 0.0, 0.0])),\n",
       " Row(label=0, features=DenseVector([3.0, 17.0, 0.0, 0.0, 8.6625, 0.0, 0.0])),\n",
       " Row(label=0, features=DenseVector([3.0, 17.0, 1.0, 0.0, 7.0542, 0.0, 0.0])),\n",
       " Row(label=0, features=DenseVector([3.0, 18.0, 0.0, 0.0, 8.3, 0.0, 0.0])),\n",
       " Row(label=0, features=DenseVector([3.0, 18.0, 0.0, 1.0, 14.4542, 1.0, 1.0])),\n",
       " Row(label=0, features=DenseVector([3.0, 18.0, 1.0, 0.0, 17.8, 1.0, 0.0])),\n",
       " Row(label=0, features=DenseVector([3.0, 18.0, 1.0, 1.0, 7.8542, 0.0, 0.0])),\n",
       " Row(label=0, features=DenseVector([3.0, 18.0, 1.0, 1.0, 20.2125, 0.0, 0.0])),\n",
       " Row(label=0, features=DenseVector([3.0, 19.0, 0.0, 0.0, 7.8958, 0.0, 0.0])),\n",
       " Row(label=0, features=DenseVector([3.0, 19.0, 0.0, 0.0, 7.8958, 0.0, 0.0])),\n",
       " Row(label=0, features=DenseVector([3.0, 19.0, 0.0, 0.0, 10.1708, 0.0, 0.0])),\n",
       " Row(label=0, features=DenseVector([3.0, 20.0, 0.0, 0.0, 7.05, 0.0, 0.0])),\n",
       " Row(label=0, features=DenseVector([3.0, 20.0, 0.0, 0.0, 7.8542, 0.0, 0.0])),\n",
       " Row(label=0, features=DenseVector([3.0, 20.0, 0.0, 0.0, 7.8542, 0.0, 0.0])),\n",
       " Row(label=0, features=DenseVector([3.0, 20.0, 0.0, 0.0, 9.225, 0.0, 0.0])),\n",
       " Row(label=0, features=DenseVector([3.0, 21.0, 0.0, 0.0, 7.775, 0.0, 0.0])),\n",
       " Row(label=0, features=DenseVector([3.0, 21.0, 0.0, 0.0, 7.8542, 0.0, 0.0])),\n",
       " Row(label=0, features=DenseVector([3.0, 21.0, 0.0, 0.0, 8.05, 0.0, 0.0])),\n",
       " Row(label=0, features=DenseVector([3.0, 21.0, 0.0, 0.0, 8.4333, 0.0, 0.0])),\n",
       " Row(label=0, features=DenseVector([3.0, 21.0, 1.0, 0.0, 9.825, 1.0, 0.0])),\n",
       " Row(label=0, features=DenseVector([3.0, 22.0, 0.0, 0.0, 7.125, 0.0, 0.0])),\n",
       " Row(label=0, features=DenseVector([3.0, 22.0, 0.0, 0.0, 7.2292, 0.0, 1.0])),\n",
       " Row(label=0, features=DenseVector([3.0, 22.0, 0.0, 0.0, 7.7958, 0.0, 0.0])),\n",
       " Row(label=0, features=DenseVector([3.0, 22.0, 0.0, 0.0, 7.8958, 0.0, 0.0])),\n",
       " Row(label=0, features=DenseVector([3.0, 22.0, 0.0, 0.0, 8.05, 0.0, 0.0])),\n",
       " Row(label=0, features=DenseVector([3.0, 22.0, 0.0, 0.0, 8.05, 0.0, 0.0])),\n",
       " Row(label=0, features=DenseVector([3.0, 22.0, 0.0, 0.0, 9.0, 0.0, 0.0])),\n",
       " Row(label=0, features=DenseVector([3.0, 23.0, 0.0, 0.0, 9.225, 0.0, 0.0])),\n",
       " Row(label=0, features=DenseVector([3.0, 25.0, 0.0, 0.0, 7.65, 0.0, 0.0])),\n",
       " Row(label=0, features=DenseVector([3.0, 25.0, 0.0, 0.0, 7.7417, 0.0, 2.0])),\n",
       " Row(label=0, features=DenseVector([3.0, 26.0, 0.0, 0.0, 7.8958, 0.0, 0.0])),\n",
       " Row(label=0, features=DenseVector([3.0, 26.0, 1.0, 0.0, 14.4542, 0.0, 1.0])),\n",
       " Row(label=0, features=DenseVector([3.0, 28.0, 1.0, 1.0, 14.4, 1.0, 0.0])),\n",
       " Row(label=0, features=DenseVector([3.0, 28.0, 2.0, 0.0, 7.925, 0.0, 0.0])),\n",
       " Row(label=0, features=DenseVector([3.0, 29.0, 0.0, 0.0, 7.775, 0.0, 0.0])),\n",
       " Row(label=0, features=DenseVector([3.0, 29.0, 0.0, 0.0, 7.875, 0.0, 0.0])),\n",
       " Row(label=0, features=DenseVector([3.0, 29.0, 0.0, 0.0, 8.05, 0.0, 0.0])),\n",
       " Row(label=0, features=DenseVector([3.0, 29.0, 0.0, 0.0, 9.4833, 0.0, 0.0])),\n",
       " Row(label=0, features=DenseVector([3.0, 30.0, 0.0, 0.0, 7.25, 0.0, 0.0])),\n",
       " Row(label=0, features=DenseVector([3.0, 30.5, 0.0, 0.0, 7.75, 1.0, 2.0])),\n",
       " Row(label=0, features=DenseVector([3.0, 30.5, 0.0, 0.0, 8.05, 0.0, 0.0])),\n",
       " Row(label=0, features=DenseVector([3.0, 32.0, 0.0, 0.0, 7.925, 0.0, 0.0])),\n",
       " Row(label=0, features=DenseVector([3.0, 32.0, 1.0, 0.0, 15.85, 0.0, 0.0])),\n",
       " Row(label=0, features=DenseVector([3.0, 32.0, 1.0, 1.0, 15.5, 1.0, 2.0])),\n",
       " Row(label=0, features=DenseVector([3.0, 33.0, 0.0, 0.0, 7.775, 0.0, 0.0])),\n",
       " Row(label=0, features=DenseVector([3.0, 33.0, 0.0, 0.0, 7.8958, 0.0, 0.0])),\n",
       " Row(label=0, features=DenseVector([3.0, 33.0, 0.0, 0.0, 8.6625, 0.0, 1.0])),\n",
       " Row(label=0, features=DenseVector([3.0, 34.0, 0.0, 0.0, 6.4958, 0.0, 0.0])),\n",
       " Row(label=0, features=DenseVector([3.0, 34.0, 0.0, 0.0, 8.05, 0.0, 0.0])),\n",
       " Row(label=0, features=DenseVector([3.0, 34.0, 0.0, 0.0, 8.05, 0.0, 0.0])),\n",
       " Row(label=0, features=DenseVector([3.0, 34.0, 1.0, 1.0, 14.4, 0.0, 0.0])),\n",
       " Row(label=0, features=DenseVector([3.0, 34.5, 0.0, 0.0, 6.4375, 0.0, 1.0])),\n",
       " Row(label=0, features=DenseVector([3.0, 35.0, 0.0, 0.0, 7.05, 0.0, 0.0])),\n",
       " Row(label=0, features=DenseVector([3.0, 37.0, 2.0, 0.0, 7.925, 0.0, 0.0])),\n",
       " Row(label=0, features=DenseVector([3.0, 38.0, 0.0, 0.0, 7.05, 0.0, 0.0])),\n",
       " Row(label=0, features=DenseVector([3.0, 40.0, 0.0, 0.0, 7.225, 0.0, 1.0])),\n",
       " Row(label=0, features=DenseVector([3.0, 40.0, 0.0, 0.0, 7.8958, 0.0, 0.0])),\n",
       " Row(label=0, features=DenseVector([3.0, 40.0, 1.0, 0.0, 9.475, 1.0, 0.0])),\n",
       " Row(label=0, features=DenseVector([3.0, 40.0, 1.0, 4.0, 27.9, 0.0, 0.0])),\n",
       " Row(label=0, features=DenseVector([3.0, 40.5, 0.0, 0.0, 7.75, 0.0, 2.0])),\n",
       " Row(label=0, features=DenseVector([3.0, 41.0, 0.0, 0.0, 7.125, 0.0, 0.0])),\n",
       " Row(label=0, features=DenseVector([3.0, 42.0, 0.0, 0.0, 8.6625, 0.0, 0.0])),\n",
       " Row(label=0, features=DenseVector([3.0, 45.0, 0.0, 0.0, 7.75, 1.0, 0.0])),\n",
       " Row(label=0, features=DenseVector([3.0, 45.5, 0.0, 0.0, 7.225, 0.0, 1.0])),\n",
       " Row(label=0, features=DenseVector([3.0, 47.0, 0.0, 0.0, 9.0, 0.0, 0.0])),\n",
       " Row(label=1, features=DenseVector([1.0, 0.0, 0.0, 0.0, 29.7, 0.0, 1.0])),\n",
       " Row(label=1, features=DenseVector([1.0, 0.0, 0.0, 0.0, 30.0, 0.0, 0.0])),\n",
       " Row(label=1, features=DenseVector([1.0, 0.0, 0.0, 0.0, 79.2, 1.0, 1.0])),\n",
       " Row(label=1, features=DenseVector([1.0, 0.0, 1.0, 0.0, 89.1042, 1.0, 1.0])),\n",
       " Row(label=1, features=DenseVector([1.0, 0.0, 1.0, 0.0, 146.5208, 1.0, 1.0])),\n",
       " Row(label=1, features=DenseVector([1.0, 4.0, 0.0, 2.0, 81.8583, 0.0, 0.0])),\n",
       " Row(label=1, features=DenseVector([1.0, 17.0, 1.0, 0.0, 57.0, 1.0, 0.0])),\n",
       " Row(label=1, features=DenseVector([1.0, 18.0, 0.0, 2.0, 79.65, 1.0, 0.0])),\n",
       " Row(label=1, features=DenseVector([1.0, 19.0, 0.0, 2.0, 26.2833, 1.0, 0.0])),\n",
       " Row(label=1, features=DenseVector([1.0, 21.0, 0.0, 0.0, 77.9583, 1.0, 0.0])),\n",
       " Row(label=1, features=DenseVector([1.0, 22.0, 0.0, 0.0, 151.55, 1.0, 0.0])),\n",
       " Row(label=1, features=DenseVector([1.0, 24.0, 0.0, 0.0, 49.5042, 1.0, 1.0])),\n",
       " Row(label=1, features=DenseVector([1.0, 24.0, 0.0, 0.0, 69.3, 1.0, 1.0])),\n",
       " Row(label=1, features=DenseVector([1.0, 26.0, 0.0, 0.0, 78.85, 1.0, 0.0])),\n",
       " Row(label=1, features=DenseVector([1.0, 28.0, 0.0, 0.0, 35.5, 0.0, 0.0])),\n",
       " Row(label=1, features=DenseVector([1.0, 30.0, 0.0, 0.0, 56.9292, 1.0, 1.0])),\n",
       " Row(label=1, features=DenseVector([1.0, 30.0, 0.0, 0.0, 86.5, 1.0, 0.0])),\n",
       " Row(label=1, features=DenseVector([1.0, 30.0, 0.0, 0.0, 93.5, 1.0, 0.0])),\n",
       " Row(label=1, features=DenseVector([1.0, 31.0, 1.0, 0.0, 57.0, 0.0, 0.0])),\n",
       " Row(label=1, features=DenseVector([1.0, 31.0, 1.0, 0.0, 113.275, 1.0, 1.0])),\n",
       " Row(label=1, features=DenseVector([1.0, 32.0, 0.0, 0.0, 30.5, 0.0, 1.0])),\n",
       " Row(label=1, features=DenseVector([1.0, 33.0, 0.0, 0.0, 86.5, 1.0, 0.0])),\n",
       " Row(label=1, features=DenseVector([1.0, 35.0, 0.0, 0.0, 26.55, 0.0, 1.0])),\n",
       " Row(label=1, features=DenseVector([1.0, 35.0, 0.0, 0.0, 512.3292, 0.0, 1.0])),\n",
       " Row(label=1, features=DenseVector([1.0, 35.0, 1.0, 0.0, 53.1, 1.0, 0.0])),\n",
       " Row(label=1, features=DenseVector([1.0, 36.0, 0.0, 0.0, 26.3875, 0.0, 0.0])),\n",
       " Row(label=1, features=DenseVector([1.0, 36.0, 0.0, 1.0, 512.3292, 0.0, 1.0])),\n",
       " Row(label=1, features=DenseVector([1.0, 36.0, 0.0, 2.0, 71.0, 1.0, 0.0])),\n",
       " Row(label=1, features=DenseVector([1.0, 36.0, 1.0, 2.0, 120.0, 0.0, 0.0])),\n",
       " Row(label=1, features=DenseVector([1.0, 38.0, 1.0, 0.0, 90.0, 0.0, 0.0])),\n",
       " Row(label=1, features=DenseVector([1.0, 39.0, 1.0, 1.0, 110.8833, 1.0, 1.0])),\n",
       " Row(label=1, features=DenseVector([1.0, 40.0, 0.0, 0.0, 31.0, 0.0, 1.0])),\n",
       " Row(label=1, features=DenseVector([1.0, 45.0, 0.0, 0.0, 26.55, 0.0, 0.0])),\n",
       " Row(label=1, features=DenseVector([1.0, 47.0, 1.0, 1.0, 52.5542, 1.0, 0.0])),\n",
       " Row(label=1, features=DenseVector([1.0, 48.0, 1.0, 0.0, 52.0, 0.0, 0.0])),\n",
       " Row(label=1, features=DenseVector([1.0, 48.0, 1.0, 0.0, 76.7292, 0.0, 1.0])),\n",
       " Row(label=1, features=DenseVector([1.0, 50.0, 0.0, 1.0, 247.5208, 1.0, 1.0])),\n",
       " Row(label=1, features=DenseVector([1.0, 51.0, 1.0, 0.0, 77.9583, 1.0, 0.0])),\n",
       " Row(label=1, features=DenseVector([1.0, 52.0, 0.0, 0.0, 30.5, 0.0, 0.0])),\n",
       " Row(label=1, features=DenseVector([1.0, 56.0, 0.0, 0.0, 35.5, 0.0, 1.0])),\n",
       " Row(label=1, features=DenseVector([1.0, 58.0, 0.0, 0.0, 26.55, 1.0, 0.0])),\n",
       " Row(label=1, features=DenseVector([1.0, 60.0, 1.0, 0.0, 75.25, 1.0, 1.0])),\n",
       " Row(label=1, features=DenseVector([1.0, 62.0, 0.0, 0.0, 80.0, 1.0, 3.0])),\n",
       " Row(label=1, features=DenseVector([2.0, 0.67, 1.0, 1.0, 14.5, 0.0, 0.0])),\n",
       " Row(label=1, features=DenseVector([2.0, 2.0, 1.0, 1.0, 26.0, 0.0, 0.0])),\n",
       " Row(label=1, features=DenseVector([2.0, 5.0, 1.0, 2.0, 27.75, 1.0, 0.0])),\n",
       " Row(label=1, features=DenseVector([2.0, 8.0, 1.0, 1.0, 36.75, 0.0, 0.0])),\n",
       " Row(label=1, features=DenseVector([2.0, 18.0, 0.0, 1.0, 23.0, 1.0, 0.0])),\n",
       " Row(label=1, features=DenseVector([2.0, 18.0, 0.0, 2.0, 13.0, 1.0, 0.0])),\n",
       " Row(label=1, features=DenseVector([2.0, 19.0, 0.0, 0.0, 26.0, 1.0, 0.0])),\n",
       " Row(label=1, features=DenseVector([2.0, 22.0, 1.0, 2.0, 41.5792, 1.0, 1.0])),\n",
       " Row(label=1, features=DenseVector([2.0, 23.0, 0.0, 0.0, 13.7917, 1.0, 1.0])),\n",
       " Row(label=1, features=DenseVector([2.0, 24.0, 2.0, 1.0, 27.0, 1.0, 0.0])),\n",
       " Row(label=1, features=DenseVector([2.0, 25.0, 1.0, 1.0, 30.0, 1.0, 0.0])),\n",
       " Row(label=1, features=DenseVector([2.0, 28.0, 0.0, 0.0, 13.0, 1.0, 0.0])),\n",
       " Row(label=1, features=DenseVector([2.0, 29.0, 1.0, 0.0, 26.0, 1.0, 0.0])),\n",
       " Row(label=1, features=DenseVector([2.0, 30.0, 0.0, 0.0, 12.35, 1.0, 2.0])),\n",
       " Row(label=1, features=DenseVector([2.0, 32.0, 0.0, 0.0, 13.0, 1.0, 0.0])),\n",
       " Row(label=1, features=DenseVector([2.0, 32.0, 1.0, 0.0, 26.0, 0.0, 0.0])),\n",
       " Row(label=1, features=DenseVector([2.0, 33.0, 0.0, 2.0, 26.0, 1.0, 0.0])),\n",
       " Row(label=1, features=DenseVector([2.0, 33.0, 1.0, 2.0, 27.75, 1.0, 0.0])),\n",
       " Row(label=1, features=DenseVector([2.0, 34.0, 0.0, 0.0, 13.0, 0.0, 0.0])),\n",
       " Row(label=1, features=DenseVector([2.0, 34.0, 0.0, 0.0, 13.0, 1.0, 0.0])),\n",
       " Row(label=1, features=DenseVector([2.0, 36.0, 1.0, 0.0, 26.0, 1.0, 0.0])),\n",
       " Row(label=1, features=DenseVector([2.0, 40.0, 0.0, 0.0, 13.0, 1.0, 0.0])),\n",
       " Row(label=1, features=DenseVector([2.0, 41.0, 0.0, 1.0, 19.5, 1.0, 0.0])),\n",
       " Row(label=1, features=DenseVector([2.0, 42.0, 1.0, 0.0, 26.0, 1.0, 0.0])),\n",
       " Row(label=1, features=DenseVector([2.0, 45.0, 0.0, 0.0, 13.5, 1.0, 0.0])),\n",
       " Row(label=1, features=DenseVector([2.0, 45.0, 1.0, 1.0, 26.25, 1.0, 0.0])),\n",
       " Row(label=1, features=DenseVector([2.0, 54.0, 1.0, 3.0, 23.0, 1.0, 0.0])),\n",
       " Row(label=1, features=DenseVector([2.0, 55.0, 0.0, 0.0, 16.0, 1.0, 0.0])),\n",
       " Row(label=1, features=DenseVector([3.0, 0.0, 0.0, 0.0, 7.225, 1.0, 1.0])),\n",
       " Row(label=1, features=DenseVector([3.0, 0.0, 0.0, 0.0, 7.2292, 0.0, 1.0])),\n",
       " Row(label=1, features=DenseVector([3.0, 0.0, 0.0, 0.0, 7.2292, 1.0, 1.0])),\n",
       " Row(label=1, features=DenseVector([3.0, 0.0, 0.0, 0.0, 7.75, 0.0, 2.0])),\n",
       " Row(label=1, features=DenseVector([3.0, 0.0, 0.0, 0.0, 7.75, 1.0, 2.0])),\n",
       " Row(label=1, features=DenseVector([3.0, 0.0, 0.0, 0.0, 8.1125, 0.0, 0.0])),\n",
       " Row(label=1, features=DenseVector([3.0, 0.0, 0.0, 2.0, 22.3583, 1.0, 1.0])),\n",
       " Row(label=1, features=DenseVector([3.0, 0.0, 1.0, 0.0, 16.1, 1.0, 0.0])),\n",
       " Row(label=1, features=DenseVector([3.0, 0.0, 1.0, 0.0, 16.1, 1.0, 0.0])),\n",
       " Row(label=1, features=DenseVector([3.0, 0.0, 2.0, 0.0, 23.25, 0.0, 2.0])),\n",
       " Row(label=1, features=DenseVector([3.0, 0.42, 0.0, 1.0, 8.5167, 0.0, 1.0])),\n",
       " Row(label=1, features=DenseVector([3.0, 0.75, 2.0, 1.0, 19.2583, 1.0, 1.0])),\n",
       " Row(label=1, features=DenseVector([3.0, 0.75, 2.0, 1.0, 19.2583, 1.0, 1.0])),\n",
       " Row(label=1, features=DenseVector([3.0, 1.0, 1.0, 1.0, 11.1333, 1.0, 0.0])),\n",
       " Row(label=1, features=DenseVector([3.0, 2.0, 0.0, 1.0, 12.2875, 1.0, 0.0])),\n",
       " Row(label=1, features=DenseVector([3.0, 3.0, 4.0, 2.0, 31.3875, 0.0, 0.0])),\n",
       " Row(label=1, features=DenseVector([3.0, 4.0, 0.0, 2.0, 22.025, 1.0, 0.0])),\n",
       " Row(label=1, features=DenseVector([3.0, 4.0, 1.0, 1.0, 16.7, 1.0, 0.0])),\n",
       " Row(label=1, features=DenseVector([3.0, 6.0, 0.0, 1.0, 12.475, 0.0, 0.0])),\n",
       " Row(label=1, features=DenseVector([3.0, 9.0, 0.0, 2.0, 20.525, 0.0, 0.0])),\n",
       " Row(label=1, features=DenseVector([3.0, 9.0, 1.0, 1.0, 15.9, 0.0, 0.0])),\n",
       " Row(label=1, features=DenseVector([3.0, 12.0, 1.0, 0.0, 11.2417, 0.0, 1.0])),\n",
       " Row(label=1, features=DenseVector([3.0, 13.0, 0.0, 0.0, 7.2292, 1.0, 1.0])),\n",
       " Row(label=1, features=DenseVector([3.0, 15.0, 1.0, 0.0, 14.4542, 1.0, 1.0])),\n",
       " Row(label=1, features=DenseVector([3.0, 16.0, 0.0, 0.0, 7.7333, 1.0, 2.0])),\n",
       " Row(label=1, features=DenseVector([3.0, 18.0, 0.0, 0.0, 8.05, 0.0, 0.0])),\n",
       " Row(label=1, features=DenseVector([3.0, 18.0, 0.0, 0.0, 9.8417, 1.0, 0.0])),\n",
       " Row(label=1, features=DenseVector([3.0, 20.0, 1.0, 1.0, 15.7417, 0.0, 1.0])),\n",
       " Row(label=1, features=DenseVector([3.0, 22.0, 0.0, 0.0, 7.225, 0.0, 1.0])),\n",
       " Row(label=1, features=DenseVector([3.0, 22.0, 0.0, 0.0, 7.75, 1.0, 2.0])),\n",
       " Row(label=1, features=DenseVector([3.0, 22.0, 0.0, 0.0, 7.775, 1.0, 0.0])),\n",
       " Row(label=1, features=DenseVector([3.0, 24.0, 0.0, 0.0, 7.1417, 0.0, 0.0])),\n",
       " Row(label=1, features=DenseVector([3.0, 24.0, 0.0, 2.0, 16.7, 1.0, 0.0])),\n",
       " Row(label=1, features=DenseVector([3.0, 24.0, 1.0, 0.0, 15.85, 1.0, 0.0])),\n",
       " Row(label=1, features=DenseVector([3.0, 25.0, 1.0, 0.0, 7.775, 0.0, 0.0])),\n",
       " Row(label=1, features=DenseVector([3.0, 26.0, 0.0, 0.0, 7.925, 1.0, 0.0])),\n",
       " Row(label=1, features=DenseVector([3.0, 27.0, 0.0, 2.0, 11.1333, 1.0, 0.0])),\n",
       " Row(label=1, features=DenseVector([3.0, 30.0, 0.0, 0.0, 12.475, 1.0, 0.0])),\n",
       " Row(label=1, features=DenseVector([3.0, 31.0, 1.0, 1.0, 20.525, 1.0, 0.0])),\n",
       " Row(label=1, features=DenseVector([3.0, 32.0, 0.0, 0.0, 56.4958, 0.0, 0.0])),\n",
       " Row(label=1, features=DenseVector([3.0, 32.0, 0.0, 0.0, 56.4958, 0.0, 0.0])),\n",
       " Row(label=1, features=DenseVector([3.0, 35.0, 1.0, 1.0, 20.25, 1.0, 0.0]))]"
      ]
     },
     "execution_count": 130,
     "metadata": {},
     "output_type": "execute_result"
    }
   ],
   "source": [
    "#Split into training and testing data\n",
    "(trainingData, testData) = titanicDF3.randomSplit([0.7, 0.3])\n",
    "trainingData.count()\n",
    "testData.count()\n",
    "testData.collect()\n"
   ]
  },
  {
   "cell_type": "code",
   "execution_count": 131,
   "metadata": {
    "collapsed": true
   },
   "outputs": [],
   "source": [
    "from pyspark.ml.classification import RandomForestClassifier\n",
    "from pyspark.ml.evaluation import MulticlassClassificationEvaluator\n"
   ]
  },
  {
   "cell_type": "markdown",
   "metadata": {},
   "source": [
    "Convert the labels into index"
   ]
  },
  {
   "cell_type": "code",
   "execution_count": 133,
   "metadata": {
    "collapsed": false
   },
   "outputs": [],
   "source": [
    "stringIndexer = StringIndexer(inputCol=\"label\", outputCol=\"indexed\")\n",
    "si_model = stringIndexer.fit(trainingData)\n",
    "td = si_model.transform(trainingData)\n",
    "\n",
    "stringIndexer = StringIndexer(inputCol=\"label\", outputCol=\"indexed\")\n",
    "sii_model = stringIndexer.fit(testData)\n",
    "ttd = sii_model.transform(testData)\n"
   ]
  },
  {
   "cell_type": "code",
   "execution_count": 136,
   "metadata": {
    "collapsed": true
   },
   "outputs": [],
   "source": [
    "#Create the model\n",
    "rmClassifer = RandomForestClassifier(labelCol=\"indexed\", \\\n",
    "                featuresCol=\"features\")\n",
    "rmModel = rmClassifer.fit(td)\n"
   ]
  },
  {
   "cell_type": "code",
   "execution_count": 141,
   "metadata": {
    "collapsed": false
   },
   "outputs": [
    {
     "data": {
      "text/plain": [
       "0.7904411764705882"
      ]
     },
     "execution_count": 141,
     "metadata": {},
     "output_type": "execute_result"
    }
   ],
   "source": [
    "#Predict on the test data\n",
    "predictions = rmModel.transform(ttd)\n",
    "predictions.select(\"prediction\",\"indexed\",\"label\",\"features\").collect()\n",
    "evaluator = MulticlassClassificationEvaluator(predictionCol=\"prediction\", \\\n",
    "                    labelCol=\"indexed\",metricName=\"precision\")\n",
    "evaluator.evaluate(predictions) "
   ]
  },
  {
   "cell_type": "code",
   "execution_count": 142,
   "metadata": {
    "collapsed": false
   },
   "outputs": [
    {
     "name": "stdout",
     "output_type": "stream",
     "text": [
      "+-------+----------+-----+\n",
      "|indexed|prediction|count|\n",
      "+-------+----------+-----+\n",
      "|    1.0|       1.0|   61|\n",
      "|    0.0|       0.0|  154|\n",
      "|    0.0|       1.0|    5|\n",
      "|    1.0|       0.0|   52|\n",
      "+-------+----------+-----+\n",
      "\n"
     ]
    }
   ],
   "source": [
    "#Draw a confusion matrix\n",
    "labelList=predictions.select(\"indexed\",\"label\").distinct().toPandas()\n",
    "predictions.groupBy(\"indexed\",\"prediction\").count().show()\n"
   ]
  },
  {
   "cell_type": "code",
   "execution_count": 1,
   "metadata": {
    "collapsed": false
   },
   "outputs": [
    {
     "ename": "NameError",
     "evalue": "name 'sc' is not defined",
     "output_type": "error",
     "traceback": [
      "\u001b[1;31m---------------------------------------------------------------------------\u001b[0m",
      "\u001b[1;31mNameError\u001b[0m                                 Traceback (most recent call last)",
      "\u001b[1;32m<ipython-input-1-74cc976b3d17>\u001b[0m in \u001b[0;36m<module>\u001b[1;34m()\u001b[0m\n\u001b[1;32m----> 1\u001b[1;33m \u001b[0mfuelData1\u001b[0m \u001b[1;33m=\u001b[0m \u001b[0msc\u001b[0m\u001b[1;33m.\u001b[0m\u001b[0mtextFile\u001b[0m\u001b[1;33m(\u001b[0m\u001b[1;34m\"fuel_data_1.csv\"\u001b[0m\u001b[1;33m)\u001b[0m\u001b[1;33m\u001b[0m\u001b[0m\n\u001b[0m\u001b[0;32m      2\u001b[0m \u001b[0mheader1\u001b[0m\u001b[1;33m=\u001b[0m\u001b[0mfuelData1\u001b[0m\u001b[1;33m.\u001b[0m\u001b[0mfirst\u001b[0m\u001b[1;33m(\u001b[0m\u001b[1;33m)\u001b[0m\u001b[1;33m\u001b[0m\u001b[0m\n\u001b[0;32m      3\u001b[0m \u001b[0mfields1\u001b[0m\u001b[1;33m=\u001b[0m \u001b[1;33m[\u001b[0m\u001b[0mStructField\u001b[0m\u001b[1;33m(\u001b[0m\u001b[0mfield_name\u001b[0m\u001b[1;33m,\u001b[0m \u001b[0mStringType\u001b[0m\u001b[1;33m(\u001b[0m\u001b[1;33m)\u001b[0m\u001b[1;33m,\u001b[0m \u001b[0mTrue\u001b[0m\u001b[1;33m)\u001b[0m \u001b[1;32mfor\u001b[0m \u001b[0mfield_name\u001b[0m \u001b[1;32min\u001b[0m \u001b[0mheader1\u001b[0m\u001b[1;33m.\u001b[0m\u001b[0msplit\u001b[0m\u001b[1;33m(\u001b[0m\u001b[1;34m','\u001b[0m\u001b[1;33m)\u001b[0m\u001b[1;33m]\u001b[0m\u001b[1;33m\u001b[0m\u001b[0m\n\u001b[0;32m      4\u001b[0m \u001b[0mfields1\u001b[0m\u001b[1;33m[\u001b[0m\u001b[1;36m0\u001b[0m\u001b[1;33m]\u001b[0m\u001b[1;33m.\u001b[0m\u001b[0mdataType\u001b[0m \u001b[1;33m=\u001b[0m \u001b[0mDateType\u001b[0m\u001b[1;33m(\u001b[0m\u001b[1;33m)\u001b[0m\u001b[1;33m\u001b[0m\u001b[0m\n\u001b[0;32m      5\u001b[0m \u001b[0mfields1\u001b[0m\u001b[1;33m[\u001b[0m\u001b[1;36m1\u001b[0m\u001b[1;33m]\u001b[0m\u001b[1;33m.\u001b[0m\u001b[0mdataType\u001b[0m \u001b[1;33m=\u001b[0m \u001b[0mFloatType\u001b[0m\u001b[1;33m(\u001b[0m\u001b[1;33m)\u001b[0m\u001b[1;33m\u001b[0m\u001b[0m\n",
      "\u001b[1;31mNameError\u001b[0m: name 'sc' is not defined"
     ]
    }
   ],
   "source": [
    "fuelData1 = sc.textFile(\"fuel_data_1.csv\")\n",
    "header1=fuelData1.first()\n",
    "fields1= [StructField(field_name, StringType(), True) for field_name in header1.split(',')]\n",
    "fields1[0].dataType = DateType()\n",
    "fields1[1].dataType = FloatType()\n",
    "fields1[2].dataType = FloatType()\n",
    "fields1[3].dataType = FloatType()\n",
    "fields1[4].dataType = FloatType()\n",
    "fields1[5].dataType = FloatType()\n",
    "fields1[6].dataType = FloatType()\n",
    "fields1[7].dataType = FloatType()\n",
    "fields1[8].dataType = FloatType()\n",
    "fields1[9].dataType = FloatType()\n",
    "schema1 = StructType(fields1)\n",
    "fuelFile1=fuelData1.filter(lambda x: x!=header1)\n",
    "def safe_cast(val, to_type, default=None):\n",
    "    try:\n",
    "        return to_type(val)\n",
    "    except ValueError:\n",
    "        return default\n",
    "fueltemp1 = fuelFile1.map(lambda k: k.split(\",\")).map(lambda p: (parse(p[0]), safe_cast(p[1], float,0.0), safe_cast(p[2], float,0.0), safe_cast(p[3], float,0.0), safe_cast(p[4], float,0.0) , safe_cast(p[5], float,0.0), safe_cast(p[6], float,0.0) ,safe_cast(p[7], float,0.0), safe_cast(p[8], float,0.0), safe_cast(p[9], float,0.0)))\n",
    "fuelDF1 = sqlContext.createDataFrame(fueltemp1, schema1)\n",
    "fuelDF21 = fuelDF1.withColumn(\"File\", lit(1))\n",
    "fuelDF21.show(2)"
   ]
  },
  {
   "cell_type": "code",
   "execution_count": null,
   "metadata": {
    "collapsed": true
   },
   "outputs": [],
   "source": []
  }
 ],
 "metadata": {
  "kernelspec": {
   "display_name": "Python 2",
   "language": "python",
   "name": "python2"
  },
  "language_info": {
   "codemirror_mode": {
    "name": "ipython",
    "version": 2
   },
   "file_extension": ".py",
   "mimetype": "text/x-python",
   "name": "python",
   "nbconvert_exporter": "python",
   "pygments_lexer": "ipython2",
   "version": "2.7.11"
  }
 },
 "nbformat": 4,
 "nbformat_minor": 0
}
